{
 "cells": [
  {
   "cell_type": "markdown",
   "metadata": {},
   "source": [
    "## Indomain Evaluation"
   ]
  },
  {
   "cell_type": "code",
   "execution_count": 493,
   "metadata": {
    "collapsed": true
   },
   "outputs": [],
   "source": [
    "import pandas as pd\n",
    "import fasttext as ft\n",
    "pd.set_option('display.max_colwidth', -1)   "
   ]
  },
  {
   "cell_type": "markdown",
   "metadata": {},
   "source": [
    "### Hotel"
   ]
  },
  {
   "cell_type": "code",
   "execution_count": 494,
   "metadata": {
    "collapsed": false,
    "scrolled": true
   },
   "outputs": [
    {
     "data": {
      "text/html": [
       "<div>\n",
       "<table border=\"1\" class=\"dataframe\">\n",
       "  <thead>\n",
       "    <tr style=\"text-align: right;\">\n",
       "      <th></th>\n",
       "      <th>text</th>\n",
       "      <th>class</th>\n",
       "    </tr>\n",
       "  </thead>\n",
       "  <tbody>\n",
       "    <tr>\n",
       "      <th>0</th>\n",
       "      <td>This hotel was very modern and sleek.</td>\n",
       "      <td>0</td>\n",
       "    </tr>\n",
       "    <tr>\n",
       "      <th>1</th>\n",
       "      <td>Beautiful, well-laid out, albeiit small rooms.</td>\n",
       "      <td>0</td>\n",
       "    </tr>\n",
       "    <tr>\n",
       "      <th>2</th>\n",
       "      <td>Fantastic breakfast with an incredible selection of meats, cheeses, yogurts, breads etc. And, as a non-German speaker,</td>\n",
       "      <td>0</td>\n",
       "    </tr>\n",
       "    <tr>\n",
       "      <th>3</th>\n",
       "      <td>the staff were uber-helpful.</td>\n",
       "      <td>0</td>\n",
       "    </tr>\n",
       "    <tr>\n",
       "      <th>4</th>\n",
       "      <td>Great location in front of a u-bahn stop.</td>\n",
       "      <td>0</td>\n",
       "    </tr>\n",
       "  </tbody>\n",
       "</table>\n",
       "</div>"
      ],
      "text/plain": [
       "                                                                                                                     text  \\\n",
       "0  This hotel was very modern and sleek.                                                                                    \n",
       "1  Beautiful, well-laid out, albeiit small rooms.                                                                           \n",
       "2  Fantastic breakfast with an incredible selection of meats, cheeses, yogurts, breads etc. And, as a non-German speaker,   \n",
       "3  the staff were uber-helpful.                                                                                             \n",
       "4  Great location in front of a u-bahn stop.                                                                                \n",
       "\n",
       "   class  \n",
       "0  0      \n",
       "1  0      \n",
       "2  0      \n",
       "3  0      \n",
       "4  0      "
      ]
     },
     "execution_count": 494,
     "metadata": {},
     "output_type": "execute_result"
    }
   ],
   "source": [
    "hotel = pd.read_csv('data/hotel/hotel.csv')\n",
    "hotel.head()"
   ]
  },
  {
   "cell_type": "code",
   "execution_count": 495,
   "metadata": {
    "collapsed": false
   },
   "outputs": [
    {
     "data": {
      "text/html": [
       "<div>\n",
       "<table border=\"1\" class=\"dataframe\">\n",
       "  <thead>\n",
       "    <tr style=\"text-align: right;\">\n",
       "      <th></th>\n",
       "      <th>text</th>\n",
       "      <th>class</th>\n",
       "    </tr>\n",
       "  </thead>\n",
       "  <tbody>\n",
       "    <tr>\n",
       "      <th>0</th>\n",
       "      <td>__label__0 This hotel was very modern and sleek.</td>\n",
       "      <td>0</td>\n",
       "    </tr>\n",
       "    <tr>\n",
       "      <th>1</th>\n",
       "      <td>__label__0 Beautiful, well-laid out, albeiit small rooms.</td>\n",
       "      <td>0</td>\n",
       "    </tr>\n",
       "    <tr>\n",
       "      <th>2</th>\n",
       "      <td>__label__0 Fantastic breakfast with an incredible selection of meats, cheeses, yogurts, breads etc. And, as a non-German speaker,</td>\n",
       "      <td>0</td>\n",
       "    </tr>\n",
       "    <tr>\n",
       "      <th>3</th>\n",
       "      <td>__label__0 the staff were uber-helpful.</td>\n",
       "      <td>0</td>\n",
       "    </tr>\n",
       "    <tr>\n",
       "      <th>4</th>\n",
       "      <td>__label__0 Great location in front of a u-bahn stop.</td>\n",
       "      <td>0</td>\n",
       "    </tr>\n",
       "  </tbody>\n",
       "</table>\n",
       "</div>"
      ],
      "text/plain": [
       "                                                                                                                                text  \\\n",
       "0  __label__0 This hotel was very modern and sleek.                                                                                    \n",
       "1  __label__0 Beautiful, well-laid out, albeiit small rooms.                                                                           \n",
       "2  __label__0 Fantastic breakfast with an incredible selection of meats, cheeses, yogurts, breads etc. And, as a non-German speaker,   \n",
       "3  __label__0 the staff were uber-helpful.                                                                                             \n",
       "4  __label__0 Great location in front of a u-bahn stop.                                                                                \n",
       "\n",
       "   class  \n",
       "0  0      \n",
       "1  0      \n",
       "2  0      \n",
       "3  0      \n",
       "4  0      "
      ]
     },
     "execution_count": 495,
     "metadata": {},
     "output_type": "execute_result"
    }
   ],
   "source": [
    "san = hotel['text'].copy()\n",
    "for i in range(len(san)):\n",
    "    san[i] = '__label__'+str(hotel['class'][i])+' '+san[i]\n",
    "hotel['text'] = san\n",
    "hotel.head()"
   ]
  },
  {
   "cell_type": "code",
   "execution_count": 496,
   "metadata": {
    "collapsed": false
   },
   "outputs": [
    {
     "name": "stdout",
     "output_type": "stream",
     "text": [
      "(7534, 2)\n"
     ]
    }
   ],
   "source": [
    "hotel = hotel.sample(frac = 1).reset_index(drop = True)\n",
    "print hotel.shape"
   ]
  },
  {
   "cell_type": "code",
   "execution_count": 497,
   "metadata": {
    "collapsed": false
   },
   "outputs": [],
   "source": [
    "hotel_train = hotel[:-750]\n",
    "hotel_test = hotel[-750:]\n",
    "hotel_test = hotel_test.reset_index(drop = True)"
   ]
  },
  {
   "cell_type": "code",
   "execution_count": 498,
   "metadata": {
    "collapsed": false
   },
   "outputs": [
    {
     "data": {
      "text/plain": [
       "(750, 2)"
      ]
     },
     "execution_count": 498,
     "metadata": {},
     "output_type": "execute_result"
    }
   ],
   "source": [
    "hotel_test.shape"
   ]
  },
  {
   "cell_type": "code",
   "execution_count": 499,
   "metadata": {
    "collapsed": true
   },
   "outputs": [],
   "source": [
    "fw = open('data/hotel/hotel_train.txt','w')\n",
    "for i in range(len(hotel_train)):\n",
    "    fw.write(hotel_train['text'][i])\n",
    "    fw.write('\\n')\n",
    "fw.close()"
   ]
  },
  {
   "cell_type": "code",
   "execution_count": 500,
   "metadata": {
    "collapsed": false
   },
   "outputs": [],
   "source": [
    "fw = open('data/hotel/hotel_test.txt','w')\n",
    "for i in range(len(hotel_test)):\n",
    "    fw.write(hotel_test['text'][i])\n",
    "    fw.write('\\n')\n",
    "fw.close()"
   ]
  },
  {
   "cell_type": "code",
   "execution_count": 587,
   "metadata": {
    "collapsed": false,
    "scrolled": true
   },
   "outputs": [],
   "source": [
    "hotel_clf = ft.supervised('data/hotel/hotel_train.txt','data/hotel/hotel')"
   ]
  },
  {
   "cell_type": "code",
   "execution_count": 588,
   "metadata": {
    "collapsed": false
   },
   "outputs": [
    {
     "name": "stdout",
     "output_type": "stream",
     "text": [
      "0.958666666667\n",
      "0.958666666667\n"
     ]
    }
   ],
   "source": [
    "hotel_result = hotel_clf.test('data/hotel/hotel_test.txt')\n",
    "print hotel_result.precision\n",
    "print hotel_result.recall"
   ]
  },
  {
   "cell_type": "code",
   "execution_count": 589,
   "metadata": {
    "collapsed": true
   },
   "outputs": [],
   "source": [
    "hotel_test_texts = []\n",
    "for i in range(len(hotel_test)):\n",
    "    hotel_test_texts.append(hotel_test['text'][i][11:])"
   ]
  },
  {
   "cell_type": "code",
   "execution_count": 590,
   "metadata": {
    "collapsed": true
   },
   "outputs": [],
   "source": [
    "pred = hotel_clf.predict(hotel_test_texts)\n",
    "hotel_test_pred = []\n",
    "for i in range(len(pred)):\n",
    "    hotel_test_pred.append(int(pred[i][0]))\n",
    "hotel_test_labels = list(hotel_test['class'])"
   ]
  },
  {
   "cell_type": "code",
   "execution_count": 591,
   "metadata": {
    "collapsed": false
   },
   "outputs": [
    {
     "name": "stdout",
     "output_type": "stream",
     "text": [
      "             precision    recall  f1-score   support\n",
      "\n",
      "    Not Sug       0.97      0.99      0.98       712\n",
      "        Sug       0.67      0.37      0.47        38\n",
      "\n",
      "avg / total       0.95      0.96      0.95       750\n",
      "\n"
     ]
    }
   ],
   "source": [
    "# precision recall and F1 score.\n",
    "from sklearn.metrics import classification_report\n",
    "print(classification_report(hotel_test_labels, hotel_test_pred, target_names=['Not Sug','Sug']))"
   ]
  },
  {
   "cell_type": "code",
   "execution_count": 592,
   "metadata": {
    "collapsed": false
   },
   "outputs": [
    {
     "name": "stdout",
     "output_type": "stream",
     "text": [
      "0.958666666667\n"
     ]
    }
   ],
   "source": [
    "from sklearn.metrics import accuracy_score\n",
    "print accuracy_score(hotel_test_labels,hotel_test_pred)"
   ]
  },
  {
   "cell_type": "markdown",
   "metadata": {},
   "source": [
    "## Elec"
   ]
  },
  {
   "cell_type": "code",
   "execution_count": 507,
   "metadata": {
    "collapsed": false
   },
   "outputs": [
    {
     "data": {
      "text/html": [
       "<div>\n",
       "<table border=\"1\" class=\"dataframe\">\n",
       "  <thead>\n",
       "    <tr style=\"text-align: right;\">\n",
       "      <th></th>\n",
       "      <th>text</th>\n",
       "      <th>class</th>\n",
       "    </tr>\n",
       "  </thead>\n",
       "  <tbody>\n",
       "    <tr>\n",
       "      <th>0</th>\n",
       "      <td>__label__0 does your apex dvd player only play dvd audio without video?</td>\n",
       "      <td>0</td>\n",
       "    </tr>\n",
       "    <tr>\n",
       "      <th>1</th>\n",
       "      <td>__label__0 or does it play audio and video but scrolling in black and white ?</td>\n",
       "      <td>0</td>\n",
       "    </tr>\n",
       "    <tr>\n",
       "      <th>2</th>\n",
       "      <td>__label__1 before you try to return the player or waste hours calling apex tech support , or run the player over with your car, try these simple troubleshooting ideas first .</td>\n",
       "      <td>1</td>\n",
       "    </tr>\n",
       "    <tr>\n",
       "      <th>3</th>\n",
       "      <td>__label__0 hopefully you still have the remote control .</td>\n",
       "      <td>0</td>\n",
       "    </tr>\n",
       "    <tr>\n",
       "      <th>4</th>\n",
       "      <td>__label__0 if you tossed it out of  the window , you need to fetch it .</td>\n",
       "      <td>0</td>\n",
       "    </tr>\n",
       "  </tbody>\n",
       "</table>\n",
       "</div>"
      ],
      "text/plain": [
       "                                                                                                                                                                             text  \\\n",
       "0  __label__0 does your apex dvd player only play dvd audio without video?                                                                                                          \n",
       "1  __label__0 or does it play audio and video but scrolling in black and white ?                                                                                                    \n",
       "2  __label__1 before you try to return the player or waste hours calling apex tech support , or run the player over with your car, try these simple troubleshooting ideas first .   \n",
       "3  __label__0 hopefully you still have the remote control .                                                                                                                         \n",
       "4  __label__0 if you tossed it out of  the window , you need to fetch it .                                                                                                          \n",
       "\n",
       "   class  \n",
       "0  0      \n",
       "1  0      \n",
       "2  1      \n",
       "3  0      \n",
       "4  0      "
      ]
     },
     "execution_count": 507,
     "metadata": {},
     "output_type": "execute_result"
    }
   ],
   "source": [
    "elec = pd.read_csv('data/elec/elec.csv')\n",
    "\n",
    "san = elec['text'].copy()\n",
    "for i in range(len(san)):\n",
    "    san[i] = '__label__'+str(elec['class'][i])+' '+san[i]\n",
    "elec['text'] = san\n",
    "elec.head()"
   ]
  },
  {
   "cell_type": "code",
   "execution_count": 508,
   "metadata": {
    "collapsed": false
   },
   "outputs": [
    {
     "name": "stdout",
     "output_type": "stream",
     "text": [
      "(3782, 2)\n"
     ]
    }
   ],
   "source": [
    "print elec.shape"
   ]
  },
  {
   "cell_type": "code",
   "execution_count": 509,
   "metadata": {
    "collapsed": true
   },
   "outputs": [],
   "source": [
    "elec = elec.sample(frac = 1).reset_index(drop = True)\n",
    "#print elec.shape\n",
    "\n",
    "elec_train = elec[:-350]\n",
    "elec_test = elec[-350:]\n",
    "elec_test = elec_test.reset_index(drop = True)"
   ]
  },
  {
   "cell_type": "code",
   "execution_count": 510,
   "metadata": {
    "collapsed": true
   },
   "outputs": [],
   "source": [
    "fw = open('data/elec/elec_train.txt','w')\n",
    "for i in range(len(elec_train)):\n",
    "    fw.write(elec_train['text'][i])\n",
    "    fw.write('\\n')\n",
    "fw.close()\n",
    "\n",
    "fw = open('data/elec/elec_test.txt','w')\n",
    "for i in range(len(elec_test)):\n",
    "    fw.write(elec_test['text'][i])\n",
    "    fw.write('\\n')\n",
    "fw.close()"
   ]
  },
  {
   "cell_type": "code",
   "execution_count": 615,
   "metadata": {
    "collapsed": true
   },
   "outputs": [],
   "source": [
    "elec_clf = ft.supervised('data/elec/elec_train.txt','data/elec/elec')"
   ]
  },
  {
   "cell_type": "code",
   "execution_count": 616,
   "metadata": {
    "collapsed": false,
    "scrolled": true
   },
   "outputs": [
    {
     "name": "stdout",
     "output_type": "stream",
     "text": [
      "0.945714285714\n",
      "0.945714285714\n"
     ]
    }
   ],
   "source": [
    "elec_result = elec_clf.test('data/elec/elec_test.txt')\n",
    "print elec_result.precision\n",
    "print elec_result.recall"
   ]
  },
  {
   "cell_type": "code",
   "execution_count": 617,
   "metadata": {
    "collapsed": true
   },
   "outputs": [],
   "source": [
    "elec_test_texts = []\n",
    "for i in range(len(elec_test)):\n",
    "    elec_test_texts.append(elec_test['text'][i][11:])\n",
    "\n",
    "pred = elec_clf.predict(elec_test_texts)\n",
    "elec_test_pred = []\n",
    "for i in range(len(pred)):\n",
    "    elec_test_pred.append(int(pred[i][0]))\n",
    "elec_test_labels = list(elec_test['class'])"
   ]
  },
  {
   "cell_type": "code",
   "execution_count": 618,
   "metadata": {
    "collapsed": false
   },
   "outputs": [
    {
     "name": "stdout",
     "output_type": "stream",
     "text": [
      "             precision    recall  f1-score   support\n",
      "\n",
      "    Not Sug       0.94      1.00      0.97       326\n",
      "        Sug       1.00      0.21      0.34        24\n",
      "\n",
      "avg / total       0.95      0.95      0.93       350\n",
      "\n"
     ]
    }
   ],
   "source": [
    "# precision recall and F1 score.\n",
    "from sklearn.metrics import classification_report\n",
    "print(classification_report(elec_test_labels, elec_test_pred, target_names=['Not Sug','Sug']))"
   ]
  },
  {
   "cell_type": "code",
   "execution_count": 602,
   "metadata": {
    "collapsed": false
   },
   "outputs": [
    {
     "name": "stdout",
     "output_type": "stream",
     "text": [
      "0.937142857143\n"
     ]
    }
   ],
   "source": [
    "from sklearn.metrics import accuracy_score\n",
    "print accuracy_score(elec_test_labels,elec_test_pred)"
   ]
  },
  {
   "cell_type": "markdown",
   "metadata": {},
   "source": [
    "## Travel"
   ]
  },
  {
   "cell_type": "code",
   "execution_count": 516,
   "metadata": {
    "collapsed": false
   },
   "outputs": [
    {
     "data": {
      "text/html": [
       "<div>\n",
       "<table border=\"1\" class=\"dataframe\">\n",
       "  <thead>\n",
       "    <tr style=\"text-align: right;\">\n",
       "      <th></th>\n",
       "      <th>text</th>\n",
       "      <th>class</th>\n",
       "    </tr>\n",
       "  </thead>\n",
       "  <tbody>\n",
       "    <tr>\n",
       "      <th>0</th>\n",
       "      <td>You can find useful tips and information on Insight's website .</td>\n",
       "      <td>1</td>\n",
       "    </tr>\n",
       "    <tr>\n",
       "      <th>1</th>\n",
       "      <td>Go to the TIPS tab on the homepage and find further information on the following :</td>\n",
       "      <td>0</td>\n",
       "    </tr>\n",
       "    <tr>\n",
       "      <th>2</th>\n",
       "      <td>Frequently Asked Questions : Get answers to the most frequently asked questions about Insight Vacations tours ,</td>\n",
       "      <td>0</td>\n",
       "    </tr>\n",
       "    <tr>\n",
       "      <th>3</th>\n",
       "      <td>Travel Information : Travel information on all countries that Insight Vacations tours .</td>\n",
       "      <td>0</td>\n",
       "    </tr>\n",
       "    <tr>\n",
       "      <th>4</th>\n",
       "      <td>Your most common questions will be answered within these specially prepared downloads .</td>\n",
       "      <td>0</td>\n",
       "    </tr>\n",
       "  </tbody>\n",
       "</table>\n",
       "</div>"
      ],
      "text/plain": [
       "                                                                                                              text  \\\n",
       "0  You can find useful tips and information on Insight's website .                                                   \n",
       "1  Go to the TIPS tab on the homepage and find further information on the following :                                \n",
       "2  Frequently Asked Questions : Get answers to the most frequently asked questions about Insight Vacations tours ,   \n",
       "3  Travel Information : Travel information on all countries that Insight Vacations tours .                           \n",
       "4  Your most common questions will be answered within these specially prepared downloads .                           \n",
       "\n",
       "   class  \n",
       "0  1      \n",
       "1  0      \n",
       "2  0      \n",
       "3  0      \n",
       "4  0      "
      ]
     },
     "execution_count": 516,
     "metadata": {},
     "output_type": "execute_result"
    }
   ],
   "source": [
    "travel = pd.read_table('data/travel/travel.txt', names = ['text','class'])\n",
    "travel = travel.reset_index(drop = True)\n",
    "travel.head()"
   ]
  },
  {
   "cell_type": "code",
   "execution_count": 517,
   "metadata": {
    "collapsed": false
   },
   "outputs": [
    {
     "name": "stdout",
     "output_type": "stream",
     "text": [
      "(5183, 2)\n"
     ]
    }
   ],
   "source": [
    "san = travel['text'].copy()\n",
    "for i in range(len(san)):\n",
    "    san[i] = '__label__'+str(travel['class'][i])+' '+san[i]\n",
    "travel['text'] = san\n",
    "\n",
    "travel = travel.sample(frac = 1).reset_index(drop = True)\n",
    "print travel.shape"
   ]
  },
  {
   "cell_type": "code",
   "execution_count": 518,
   "metadata": {
    "collapsed": true
   },
   "outputs": [],
   "source": [
    "travel_train = travel[:-500]\n",
    "travel_test = travel[-500:]\n",
    "travel_test = travel_test.reset_index(drop = True)\n",
    "\n",
    "fw = open('data/travel/travel_train.txt','w')\n",
    "for i in range(len(travel_train)):\n",
    "    fw.write(travel_train['text'][i])\n",
    "    fw.write('\\n')\n",
    "fw.close()\n",
    "\n",
    "fw = open('data/travel/travel_test.txt','w')\n",
    "for i in range(len(travel_test)):\n",
    "    fw.write(travel_test['text'][i])\n",
    "    fw.write('\\n')\n",
    "fw.close()"
   ]
  },
  {
   "cell_type": "code",
   "execution_count": 619,
   "metadata": {
    "collapsed": false
   },
   "outputs": [
    {
     "name": "stdout",
     "output_type": "stream",
     "text": [
      "0.78\n",
      "0.78\n"
     ]
    }
   ],
   "source": [
    "travel_clf = ft.supervised('data/travel/travel_train.txt','data/travel/travel')\n",
    "travel_result = travel_clf.test('data/travel/travel_test.txt')\n",
    "\n",
    "print travel_result.precision\n",
    "print travel_result.recall"
   ]
  },
  {
   "cell_type": "code",
   "execution_count": 620,
   "metadata": {
    "collapsed": true
   },
   "outputs": [],
   "source": [
    "travel_test_texts = []\n",
    "for i in range(len(travel_test)):\n",
    "    travel_test_texts.append(travel_test['text'][i][11:])\n",
    "\n",
    "pred = travel_clf.predict(travel_test_texts)\n",
    "travel_test_pred = []\n",
    "for i in range(len(pred)):\n",
    "    travel_test_pred.append(int(pred[i][0]))\n",
    "travel_test_labels = list(travel_test['class'])"
   ]
  },
  {
   "cell_type": "code",
   "execution_count": 621,
   "metadata": {
    "collapsed": false
   },
   "outputs": [
    {
     "name": "stdout",
     "output_type": "stream",
     "text": [
      "             precision    recall  f1-score   support\n",
      "\n",
      "    Not Sug       0.80      0.94      0.86       372\n",
      "        Sug       0.64      0.32      0.43       128\n",
      "\n",
      "avg / total       0.76      0.78      0.75       500\n",
      "\n"
     ]
    }
   ],
   "source": [
    "# precision recall and F1 score.\n",
    "from sklearn.metrics import classification_report\n",
    "print(classification_report(travel_test_labels, travel_test_pred, target_names=['Not Sug','Sug']))"
   ]
  },
  {
   "cell_type": "code",
   "execution_count": 622,
   "metadata": {
    "collapsed": false
   },
   "outputs": [
    {
     "name": "stdout",
     "output_type": "stream",
     "text": [
      "0.78\n"
     ]
    }
   ],
   "source": [
    "from sklearn.metrics import accuracy_score\n",
    "print accuracy_score(travel_test_labels,travel_test_pred)"
   ]
  },
  {
   "cell_type": "markdown",
   "metadata": {},
   "source": [
    "## Sugg User Voice"
   ]
  },
  {
   "cell_type": "code",
   "execution_count": 523,
   "metadata": {
    "collapsed": false,
    "scrolled": true
   },
   "outputs": [
    {
     "data": {
      "text/html": [
       "<div>\n",
       "<table border=\"1\" class=\"dataframe\">\n",
       "  <thead>\n",
       "    <tr style=\"text-align: right;\">\n",
       "      <th></th>\n",
       "      <th>text</th>\n",
       "      <th>class</th>\n",
       "    </tr>\n",
       "  </thead>\n",
       "  <tbody>\n",
       "    <tr>\n",
       "      <th>0</th>\n",
       "      <td>Please enable removing language code from the Dev Center \"language history\" For example if you ever selected \"ru\" and \"ru-ru\" laguages and you published this xap to the Store then it causes Tile localization to show the en-us(default) tile localization which is bad.</td>\n",
       "      <td>1.0</td>\n",
       "    </tr>\n",
       "    <tr>\n",
       "      <th>1</th>\n",
       "      <td>Note: in your .csproj file, there is a SupportedCultures entry like this: &lt;SupportedCultures&gt;de-DE;ru;ru-RU &lt;/SupportedCultures&gt; When I removed the \"ru\" language code and published my new xap version, the old xap version still remains in the Store with \"Replaced and unpublished\".</td>\n",
       "      <td>0.0</td>\n",
       "    </tr>\n",
       "    <tr>\n",
       "      <th>2</th>\n",
       "      <td>Wich means the new version not fully replaced the old version and this causes me very serious problems: 1.</td>\n",
       "      <td>0.0</td>\n",
       "    </tr>\n",
       "    <tr>\n",
       "      <th>3</th>\n",
       "      <td>Some of my users will still receive the old xap version of my app.</td>\n",
       "      <td>0.0</td>\n",
       "    </tr>\n",
       "    <tr>\n",
       "      <th>4</th>\n",
       "      <td>The store randomly gives the old xap or the new xap version of my app.</td>\n",
       "      <td>0.0</td>\n",
       "    </tr>\n",
       "  </tbody>\n",
       "</table>\n",
       "</div>"
      ],
      "text/plain": [
       "                                                                                                                                                                                                                                                                                       text  \\\n",
       "0  Please enable removing language code from the Dev Center \"language history\" For example if you ever selected \"ru\" and \"ru-ru\" laguages and you published this xap to the Store then it causes Tile localization to show the en-us(default) tile localization which is bad.                 \n",
       "1  Note: in your .csproj file, there is a SupportedCultures entry like this: <SupportedCultures>de-DE;ru;ru-RU </SupportedCultures> When I removed the \"ru\" language code and published my new xap version, the old xap version still remains in the Store with \"Replaced and unpublished\".   \n",
       "2  Wich means the new version not fully replaced the old version and this causes me very serious problems: 1.                                                                                                                                                                                 \n",
       "3  Some of my users will still receive the old xap version of my app.                                                                                                                                                                                                                         \n",
       "4  The store randomly gives the old xap or the new xap version of my app.                                                                                                                                                                                                                     \n",
       "\n",
       "   class  \n",
       "0  1.0    \n",
       "1  0.0    \n",
       "2  0.0    \n",
       "3  0.0    \n",
       "4  0.0    "
      ]
     },
     "execution_count": 523,
     "metadata": {},
     "output_type": "execute_result"
    }
   ],
   "source": [
    "suguservoice = pd.read_csv('data/suguservoice/suguservoice.csv')\n",
    "suguservoice.head()"
   ]
  },
  {
   "cell_type": "code",
   "execution_count": 524,
   "metadata": {
    "collapsed": false
   },
   "outputs": [
    {
     "data": {
      "text/html": [
       "<div>\n",
       "<table border=\"1\" class=\"dataframe\">\n",
       "  <thead>\n",
       "    <tr style=\"text-align: right;\">\n",
       "      <th></th>\n",
       "      <th>text</th>\n",
       "      <th>class</th>\n",
       "    </tr>\n",
       "  </thead>\n",
       "  <tbody>\n",
       "    <tr>\n",
       "      <th>0</th>\n",
       "      <td>Please enable removing language code from the Dev Center \"language history\" For example if you ever selected \"ru\" and \"ru-ru\" laguages and you published this xap to the Store then it causes Tile localization to show the en-us(default) tile localization which is bad.</td>\n",
       "      <td>1</td>\n",
       "    </tr>\n",
       "    <tr>\n",
       "      <th>1</th>\n",
       "      <td>Note: in your .csproj file, there is a SupportedCultures entry like this: &lt;SupportedCultures&gt;de-DE;ru;ru-RU &lt;/SupportedCultures&gt; When I removed the \"ru\" language code and published my new xap version, the old xap version still remains in the Store with \"Replaced and unpublished\".</td>\n",
       "      <td>0</td>\n",
       "    </tr>\n",
       "    <tr>\n",
       "      <th>2</th>\n",
       "      <td>Wich means the new version not fully replaced the old version and this causes me very serious problems: 1.</td>\n",
       "      <td>0</td>\n",
       "    </tr>\n",
       "    <tr>\n",
       "      <th>3</th>\n",
       "      <td>Some of my users will still receive the old xap version of my app.</td>\n",
       "      <td>0</td>\n",
       "    </tr>\n",
       "    <tr>\n",
       "      <th>4</th>\n",
       "      <td>The store randomly gives the old xap or the new xap version of my app.</td>\n",
       "      <td>0</td>\n",
       "    </tr>\n",
       "  </tbody>\n",
       "</table>\n",
       "</div>"
      ],
      "text/plain": [
       "                                                                                                                                                                                                                                                                                       text  \\\n",
       "0  Please enable removing language code from the Dev Center \"language history\" For example if you ever selected \"ru\" and \"ru-ru\" laguages and you published this xap to the Store then it causes Tile localization to show the en-us(default) tile localization which is bad.                 \n",
       "1  Note: in your .csproj file, there is a SupportedCultures entry like this: <SupportedCultures>de-DE;ru;ru-RU </SupportedCultures> When I removed the \"ru\" language code and published my new xap version, the old xap version still remains in the Store with \"Replaced and unpublished\".   \n",
       "2  Wich means the new version not fully replaced the old version and this causes me very serious problems: 1.                                                                                                                                                                                 \n",
       "3  Some of my users will still receive the old xap version of my app.                                                                                                                                                                                                                         \n",
       "4  The store randomly gives the old xap or the new xap version of my app.                                                                                                                                                                                                                     \n",
       "\n",
       "   class  \n",
       "0  1      \n",
       "1  0      \n",
       "2  0      \n",
       "3  0      \n",
       "4  0      "
      ]
     },
     "execution_count": 524,
     "metadata": {},
     "output_type": "execute_result"
    }
   ],
   "source": [
    "suguservoice['class'] = suguservoice['class'].fillna(0)\n",
    "suguservoice['class'] = suguservoice['class'].astype('int64')\n",
    "suguservoice.head()"
   ]
  },
  {
   "cell_type": "code",
   "execution_count": 525,
   "metadata": {
    "collapsed": false
   },
   "outputs": [
    {
     "data": {
      "text/plain": [
       "str"
      ]
     },
     "execution_count": 525,
     "metadata": {},
     "output_type": "execute_result"
    }
   ],
   "source": [
    "type(str(suguservoice['class'][0]))"
   ]
  },
  {
   "cell_type": "code",
   "execution_count": 526,
   "metadata": {
    "collapsed": false
   },
   "outputs": [
    {
     "data": {
      "text/plain": [
       "'__label__0 Go to the TIPS tab on the homepage and find further information on the following :'"
      ]
     },
     "execution_count": 526,
     "metadata": {},
     "output_type": "execute_result"
    }
   ],
   "source": [
    "san[1]"
   ]
  },
  {
   "cell_type": "code",
   "execution_count": 527,
   "metadata": {
    "collapsed": false
   },
   "outputs": [
    {
     "data": {
      "text/plain": [
       "str"
      ]
     },
     "execution_count": 527,
     "metadata": {},
     "output_type": "execute_result"
    }
   ],
   "source": [
    "type(suguservoice['text'][0])"
   ]
  },
  {
   "cell_type": "code",
   "execution_count": 528,
   "metadata": {
    "collapsed": false
   },
   "outputs": [
    {
     "name": "stdout",
     "output_type": "stream",
     "text": [
      "(5807, 2)\n"
     ]
    }
   ],
   "source": [
    "san = suguservoice['text'].copy()\n",
    "for i in range(len(san)):\n",
    "    san[i] = '__label__' + str(suguservoice['class'][i]) + ' ' + str(san[i])\n",
    "suguservoice['text'] = san\n",
    "\n",
    "suguservoice = suguservoice.sample(frac = 1).reset_index(drop = True)\n",
    "print suguservoice.shape"
   ]
  },
  {
   "cell_type": "code",
   "execution_count": 529,
   "metadata": {
    "collapsed": true
   },
   "outputs": [],
   "source": [
    "suguservoice_train = suguservoice[:-500]\n",
    "suguservoice_test = suguservoice[-500:]\n",
    "suguservoice_test = suguservoice_test.reset_index(drop = True)\n",
    "\n",
    "fw = open('data/suguservoice/suguservoice_train.txt','w')\n",
    "for i in range(len(suguservoice_train)):\n",
    "    fw.write(suguservoice_train['text'][i])\n",
    "    fw.write('\\n')\n",
    "fw.close()\n",
    "\n",
    "fw = open('data/suguservoice/suguservoice_test.txt','w')\n",
    "for i in range(len(suguservoice_test)):\n",
    "    fw.write(suguservoice_test['text'][i])\n",
    "    fw.write('\\n')\n",
    "fw.close()"
   ]
  },
  {
   "cell_type": "code",
   "execution_count": 623,
   "metadata": {
    "collapsed": false
   },
   "outputs": [
    {
     "name": "stdout",
     "output_type": "stream",
     "text": [
      "0.86\n",
      "0.86\n"
     ]
    }
   ],
   "source": [
    "suguservoice_clf = ft.supervised('data/suguservoice/suguservoice_train.txt','data/suguservoice/suguservoice')\n",
    "suguservoice_result = suguservoice_clf.test('data/suguservoice/suguservoice_test.txt')\n",
    "\n",
    "print suguservoice_result.precision\n",
    "print suguservoice_result.recall"
   ]
  },
  {
   "cell_type": "code",
   "execution_count": 624,
   "metadata": {
    "collapsed": true
   },
   "outputs": [],
   "source": [
    "suguservoice_test_texts = []\n",
    "for i in range(len(suguservoice_test)):\n",
    "    suguservoice_test_texts.append(suguservoice_test['text'][i][11:])\n",
    "\n",
    "pred = suguservoice_clf.predict(suguservoice_test_texts)\n",
    "suguservoice_test_pred = []\n",
    "for i in range(len(pred)):\n",
    "    suguservoice_test_pred.append(int(pred[i][0]))\n",
    "suguservoice_test_labels = list(suguservoice_test['class'])"
   ]
  },
  {
   "cell_type": "code",
   "execution_count": 625,
   "metadata": {
    "collapsed": false
   },
   "outputs": [
    {
     "name": "stdout",
     "output_type": "stream",
     "text": [
      "             precision    recall  f1-score   support\n",
      "\n",
      "    Not Sug       0.90      0.92      0.91       390\n",
      "        Sug       0.70      0.64      0.67       110\n",
      "\n",
      "avg / total       0.86      0.86      0.86       500\n",
      "\n"
     ]
    }
   ],
   "source": [
    "# precision recall and F1 score.\n",
    "from sklearn.metrics import classification_report\n",
    "print(classification_report(suguservoice_test_labels, suguservoice_test_pred, target_names=['Not Sug','Sug']))"
   ]
  },
  {
   "cell_type": "code",
   "execution_count": 626,
   "metadata": {
    "collapsed": false
   },
   "outputs": [
    {
     "name": "stdout",
     "output_type": "stream",
     "text": [
      "0.86\n"
     ]
    }
   ],
   "source": [
    "from sklearn.metrics import accuracy_score\n",
    "print accuracy_score(suguservoice_test_labels,suguservoice_test_pred)"
   ]
  },
  {
   "cell_type": "markdown",
   "metadata": {
    "collapsed": true
   },
   "source": [
    "## SugHashTag"
   ]
  },
  {
   "cell_type": "code",
   "execution_count": 534,
   "metadata": {
    "collapsed": false,
    "scrolled": true
   },
   "outputs": [
    {
     "data": {
      "text/html": [
       "<div>\n",
       "<table border=\"1\" class=\"dataframe\">\n",
       "  <thead>\n",
       "    <tr style=\"text-align: right;\">\n",
       "      <th></th>\n",
       "      <th>id</th>\n",
       "      <th>text</th>\n",
       "      <th>expert label</th>\n",
       "    </tr>\n",
       "  </thead>\n",
       "  <tbody>\n",
       "    <tr>\n",
       "      <th>0</th>\n",
       "      <td>6.900000e+17</td>\n",
       "      <td>Advice to consider: Hand Exercises for Knitters, Crocheters, and other Handcrafters with Col... https://t.co/pkV4zXUc3S via @YouTube</td>\n",
       "      <td>1</td>\n",
       "    </tr>\n",
       "    <tr>\n",
       "      <th>1</th>\n",
       "      <td>6.900000e+17</td>\n",
       "      <td>R: did Minhyuk give you any advice\\rHW: nope I prepared everything myself</td>\n",
       "      <td>0</td>\n",
       "    </tr>\n",
       "    <tr>\n",
       "      <th>2</th>\n",
       "      <td>6.900000e+17</td>\n",
       "      <td>RT https://t.co/Je3cRDneKu Start 'Em, Sit 'Em Week 7: Live Fantasy Football Mailbag and Lineup Advice _ʹ_ https://t.co/3RyRvBOOZX</td>\n",
       "      <td>0</td>\n",
       "    </tr>\n",
       "    <tr>\n",
       "      <th>3</th>\n",
       "      <td>6.900000e+17</td>\n",
       "      <td>RT @kxngde123: Best advice for 2016 : LET THAT SHIT GO_�_�_��</td>\n",
       "      <td>0</td>\n",
       "    </tr>\n",
       "    <tr>\n",
       "      <th>4</th>\n",
       "      <td>6.900000e+17</td>\n",
       "      <td>RT @Sam1963: It must be on the advice of state weatherman? Does New Jersey have one too? https://t.co/7KPztfTeQH</td>\n",
       "      <td>0</td>\n",
       "    </tr>\n",
       "  </tbody>\n",
       "</table>\n",
       "</div>"
      ],
      "text/plain": [
       "             id  \\\n",
       "0  6.900000e+17   \n",
       "1  6.900000e+17   \n",
       "2  6.900000e+17   \n",
       "3  6.900000e+17   \n",
       "4  6.900000e+17   \n",
       "\n",
       "                                                                                                                                   text  \\\n",
       "0  Advice to consider: Hand Exercises for Knitters, Crocheters, and other Handcrafters with Col... https://t.co/pkV4zXUc3S via @YouTube   \n",
       "1  R: did Minhyuk give you any advice\\rHW: nope I prepared everything myself                                                              \n",
       "2  RT https://t.co/Je3cRDneKu Start 'Em, Sit 'Em Week 7: Live Fantasy Football Mailbag and Lineup Advice _ʹ_ https://t.co/3RyRvBOOZX      \n",
       "3  RT @kxngde123: Best advice for 2016 : LET THAT SHIT GO_�_�_��                                                                          \n",
       "4  RT @Sam1963: It must be on the advice of state weatherman? Does New Jersey have one too? https://t.co/7KPztfTeQH                       \n",
       "\n",
       "   expert label  \n",
       "0  1             \n",
       "1  0             \n",
       "2  0             \n",
       "3  0             \n",
       "4  0             "
      ]
     },
     "execution_count": 534,
     "metadata": {},
     "output_type": "execute_result"
    }
   ],
   "source": [
    "sughash = pd.read_csv('data/sughash/sughash.csv')\n",
    "sughash.head()"
   ]
  },
  {
   "cell_type": "code",
   "execution_count": 535,
   "metadata": {
    "collapsed": false
   },
   "outputs": [
    {
     "data": {
      "text/html": [
       "<div>\n",
       "<table border=\"1\" class=\"dataframe\">\n",
       "  <thead>\n",
       "    <tr style=\"text-align: right;\">\n",
       "      <th></th>\n",
       "      <th>text</th>\n",
       "      <th>class</th>\n",
       "    </tr>\n",
       "  </thead>\n",
       "  <tbody>\n",
       "    <tr>\n",
       "      <th>0</th>\n",
       "      <td>Advice to consider: Hand Exercises for Knitters, Crocheters, and other Handcrafters with Col... https://t.co/pkV4zXUc3S via @YouTube</td>\n",
       "      <td>1</td>\n",
       "    </tr>\n",
       "    <tr>\n",
       "      <th>1</th>\n",
       "      <td>R: did Minhyuk give you any advice\\rHW: nope I prepared everything myself</td>\n",
       "      <td>0</td>\n",
       "    </tr>\n",
       "    <tr>\n",
       "      <th>2</th>\n",
       "      <td>RT https://t.co/Je3cRDneKu Start 'Em, Sit 'Em Week 7: Live Fantasy Football Mailbag and Lineup Advice _ʹ_ https://t.co/3RyRvBOOZX</td>\n",
       "      <td>0</td>\n",
       "    </tr>\n",
       "    <tr>\n",
       "      <th>3</th>\n",
       "      <td>RT @kxngde123: Best advice for 2016 : LET THAT SHIT GO_�_�_��</td>\n",
       "      <td>0</td>\n",
       "    </tr>\n",
       "    <tr>\n",
       "      <th>4</th>\n",
       "      <td>RT @Sam1963: It must be on the advice of state weatherman? Does New Jersey have one too? https://t.co/7KPztfTeQH</td>\n",
       "      <td>0</td>\n",
       "    </tr>\n",
       "  </tbody>\n",
       "</table>\n",
       "</div>"
      ],
      "text/plain": [
       "                                                                                                                                   text  \\\n",
       "0  Advice to consider: Hand Exercises for Knitters, Crocheters, and other Handcrafters with Col... https://t.co/pkV4zXUc3S via @YouTube   \n",
       "1  R: did Minhyuk give you any advice\\rHW: nope I prepared everything myself                                                              \n",
       "2  RT https://t.co/Je3cRDneKu Start 'Em, Sit 'Em Week 7: Live Fantasy Football Mailbag and Lineup Advice _ʹ_ https://t.co/3RyRvBOOZX      \n",
       "3  RT @kxngde123: Best advice for 2016 : LET THAT SHIT GO_�_�_��                                                                          \n",
       "4  RT @Sam1963: It must be on the advice of state weatherman? Does New Jersey have one too? https://t.co/7KPztfTeQH                       \n",
       "\n",
       "   class  \n",
       "0  1      \n",
       "1  0      \n",
       "2  0      \n",
       "3  0      \n",
       "4  0      "
      ]
     },
     "execution_count": 535,
     "metadata": {},
     "output_type": "execute_result"
    }
   ],
   "source": [
    "sughash = sughash.drop(['id'],axis = 1)\n",
    "sughash.columns = ['text','class']\n",
    "sughash.head()"
   ]
  },
  {
   "cell_type": "markdown",
   "metadata": {},
   "source": [
    "### Tweets Processor"
   ]
  },
  {
   "cell_type": "code",
   "execution_count": 536,
   "metadata": {
    "collapsed": true
   },
   "outputs": [],
   "source": [
    "import re\n",
    "import codecs\n",
    "import csv\n",
    "\n",
    "#start process_tweet\n",
    "def processTweet(tweet):\n",
    "    tweet = tweet.lower()\n",
    "    tweet = \" \" + tweet\n",
    "    tweet = re.sub(r'[^\\x00-\\x7F]+','', tweet)\n",
    "    #tweet = tweet.replace(\" rt \",\" \")\n",
    "    tweet = re.sub(' rt ','', tweet)\n",
    "    tweet = re.sub('(\\.)+','.', tweet)\n",
    "    #tweet = re.sub('((www\\.[^\\s]+)|(https://[^\\s]+) | (http://[^\\s]+))','URL',tweet)\n",
    "    tweet = re.sub('((www\\.[^\\s]+))','',tweet)\n",
    "    tweet = re.sub('((http://[^\\s]+))','',tweet)\n",
    "    tweet = re.sub('((https://[^\\s]+))','',tweet)\n",
    "    tweet = re.sub('@[^\\s]+','',tweet)\n",
    "    tweet = re.sub('[\\s]+', ' ', tweet)\n",
    "    tweet = re.sub(r'#([^\\s]+)', r'\\1', tweet)\n",
    "    tweet = re.sub('_','',tweet)\n",
    "    tweet = re.sub('\\$','',tweet)\n",
    "    tweet = re.sub('%','',tweet)\n",
    "    tweet = re.sub('^','',tweet)\n",
    "    tweet = re.sub('&','',tweet)\n",
    "    tweet = re.sub('\\*','',tweet)\n",
    "    tweet = re.sub('\\(','',tweet)\n",
    "    tweet = re.sub('\\)','',tweet)\n",
    "    tweet = re.sub('-','',tweet)\n",
    "    tweet = re.sub('\\+','',tweet)\n",
    "    tweet = re.sub('=','',tweet)\n",
    "    tweet = re.sub('\"','',tweet)\n",
    "    tweet = re.sub('~','',tweet)\n",
    "    tweet = re.sub('`','',tweet)\n",
    "    tweet = re.sub('!','',tweet)\n",
    "    tweet = re.sub(':','',tweet)\n",
    "    tweet = re.sub('^-?[0-9]+$','', tweet)\n",
    "    tweet = tweet.strip('\\'\"')\n",
    "    return tweet\n",
    "\n",
    "#end"
   ]
  },
  {
   "cell_type": "code",
   "execution_count": 537,
   "metadata": {
    "collapsed": false
   },
   "outputs": [
    {
     "name": "stdout",
     "output_type": "stream",
     "text": [
      "Advice to consider: Hand Exercises for Knitters, Crocheters, and other Handcrafters with Col... https://t.co/pkV4zXUc3S via @YouTube\n",
      " advice to consider hand exercises for knitters, crocheters, and other handcrafters with col. via \n"
     ]
    }
   ],
   "source": [
    "# example\n",
    "print sughash['text'][0]\n",
    "print processTweet(sughash['text'][0])"
   ]
  },
  {
   "cell_type": "code",
   "execution_count": 538,
   "metadata": {
    "collapsed": false
   },
   "outputs": [
    {
     "name": "stdout",
     "output_type": "stream",
     "text": [
      "(4099, 2)\n"
     ]
    }
   ],
   "source": [
    "san = sughash['text'].copy()\n",
    "for i in range(len(san)):\n",
    "    san[i] = '__label__' + str(sughash['class'][i]) + ' ' + str(processTweet(san[i]))\n",
    "sughash['text'] = san\n",
    "\n",
    "sughash = sughash.sample(frac = 1).reset_index(drop = True)\n",
    "print sughash.shape"
   ]
  },
  {
   "cell_type": "code",
   "execution_count": 539,
   "metadata": {
    "collapsed": false
   },
   "outputs": [
    {
     "data": {
      "text/html": [
       "<div>\n",
       "<table border=\"1\" class=\"dataframe\">\n",
       "  <thead>\n",
       "    <tr style=\"text-align: right;\">\n",
       "      <th></th>\n",
       "      <th>text</th>\n",
       "      <th>class</th>\n",
       "    </tr>\n",
       "  </thead>\n",
       "  <tbody>\n",
       "    <tr>\n",
       "      <th>0</th>\n",
       "      <td>__label__1  just don't give up. seriously. probably stupid advice but it's all you need to know.</td>\n",
       "      <td>1</td>\n",
       "    </tr>\n",
       "    <tr>\n",
       "      <th>1</th>\n",
       "      <td>__label__1  advice needed about to start my first zeovit reef</td>\n",
       "      <td>1</td>\n",
       "    </tr>\n",
       "    <tr>\n",
       "      <th>2</th>\n",
       "      <td>__label__1  listen to the innervoice amp; find the benefits of listening for guidance. listen live advice best talkradio</td>\n",
       "      <td>1</td>\n",
       "    </tr>\n",
       "    <tr>\n",
       "      <th>3</th>\n",
       "      <td>__label__1  hello, albin there isn't a timeline for a 98369 exam prep course, but you can request a new course here</td>\n",
       "      <td>1</td>\n",
       "    </tr>\n",
       "    <tr>\n",
       "      <th>4</th>\n",
       "      <td>__label__0  i wish i could see myself through other people's eyes</td>\n",
       "      <td>0</td>\n",
       "    </tr>\n",
       "  </tbody>\n",
       "</table>\n",
       "</div>"
      ],
      "text/plain": [
       "                                                                                                                       text  \\\n",
       "0  __label__1  just don't give up. seriously. probably stupid advice but it's all you need to know.                           \n",
       "1  __label__1  advice needed about to start my first zeovit reef                                                              \n",
       "2  __label__1  listen to the innervoice amp; find the benefits of listening for guidance. listen live advice best talkradio   \n",
       "3  __label__1  hello, albin there isn't a timeline for a 98369 exam prep course, but you can request a new course here        \n",
       "4  __label__0  i wish i could see myself through other people's eyes                                                          \n",
       "\n",
       "   class  \n",
       "0  1      \n",
       "1  1      \n",
       "2  1      \n",
       "3  1      \n",
       "4  0      "
      ]
     },
     "execution_count": 539,
     "metadata": {},
     "output_type": "execute_result"
    }
   ],
   "source": [
    "sughash.head()"
   ]
  },
  {
   "cell_type": "code",
   "execution_count": 540,
   "metadata": {
    "collapsed": true
   },
   "outputs": [],
   "source": [
    "sughash_train = sughash[:-400]\n",
    "sughash_test = sughash[-400:]\n",
    "sughash_test = sughash_test.reset_index(drop = True)\n",
    "\n",
    "fw = open('data/sughash/sughash_train.txt','w')\n",
    "for i in range(len(sughash_train)):\n",
    "    fw.write(sughash_train['text'][i])\n",
    "    fw.write('\\n')\n",
    "fw.close()\n",
    "\n",
    "fw = open('data/sughash/sughash_test.txt','w')\n",
    "for i in range(len(sughash_test)):\n",
    "    fw.write(sughash_test['text'][i])\n",
    "    fw.write('\\n')\n",
    "fw.close()"
   ]
  },
  {
   "cell_type": "code",
   "execution_count": 630,
   "metadata": {
    "collapsed": false
   },
   "outputs": [
    {
     "name": "stdout",
     "output_type": "stream",
     "text": [
      "0.8275\n",
      "0.8275\n"
     ]
    }
   ],
   "source": [
    "sughash_clf = ft.supervised('data/sughash/sughash_train.txt','data/sughash/sughash')\n",
    "sughash_result = sughash_clf.test('data/sughash/sughash_test.txt')\n",
    "\n",
    "print sughash_result.precision\n",
    "print sughash_result.recall"
   ]
  },
  {
   "cell_type": "code",
   "execution_count": 631,
   "metadata": {
    "collapsed": true
   },
   "outputs": [],
   "source": [
    "sughash_test_texts = []\n",
    "for i in range(len(sughash_test)):\n",
    "    sughash_test_texts.append(sughash_test['text'][i][11:])\n",
    "\n",
    "pred = sughash_clf.predict(sughash_test_texts)\n",
    "sughash_test_pred = []\n",
    "for i in range(len(pred)):\n",
    "    sughash_test_pred.append(int(pred[i][0]))\n",
    "sughash_test_labels = list(sughash_test['class'])"
   ]
  },
  {
   "cell_type": "code",
   "execution_count": 632,
   "metadata": {
    "collapsed": false
   },
   "outputs": [
    {
     "name": "stdout",
     "output_type": "stream",
     "text": [
      "             precision    recall  f1-score   support\n",
      "\n",
      "    Not Sug       0.88      0.89      0.88       296\n",
      "        Sug       0.67      0.65      0.66       104\n",
      "\n",
      "avg / total       0.83      0.83      0.83       400\n",
      "\n"
     ]
    }
   ],
   "source": [
    "# precision recall and F1 score.\n",
    "from sklearn.metrics import classification_report\n",
    "print(classification_report(sughash_test_labels, sughash_test_pred, target_names=['Not Sug','Sug']))"
   ]
  },
  {
   "cell_type": "code",
   "execution_count": 633,
   "metadata": {
    "collapsed": false
   },
   "outputs": [
    {
     "name": "stdout",
     "output_type": "stream",
     "text": [
      "0.8275\n"
     ]
    }
   ],
   "source": [
    "from sklearn.metrics import accuracy_score\n",
    "print accuracy_score(sughash_test_labels,sughash_test_pred)"
   ]
  },
  {
   "cell_type": "markdown",
   "metadata": {
    "collapsed": true
   },
   "source": [
    "# All Files Concatination"
   ]
  },
  {
   "cell_type": "code",
   "execution_count": 637,
   "metadata": {
    "collapsed": false
   },
   "outputs": [
    {
     "data": {
      "text/html": [
       "<div>\n",
       "<table border=\"1\" class=\"dataframe\">\n",
       "  <thead>\n",
       "    <tr style=\"text-align: right;\">\n",
       "      <th></th>\n",
       "      <th>text</th>\n",
       "      <th>class</th>\n",
       "    </tr>\n",
       "  </thead>\n",
       "  <tbody>\n",
       "    <tr>\n",
       "      <th>0</th>\n",
       "      <td>__label__0 I was extremely disappointed with my stay at Seattle Sheraton.</td>\n",
       "      <td>0</td>\n",
       "    </tr>\n",
       "    <tr>\n",
       "      <th>1</th>\n",
       "      <td>__label__0 This hotel is on the other side of the Piazza from the bus stop ,caddy corner to the large statue at the archway of the Piazza,.</td>\n",
       "      <td>0</td>\n",
       "    </tr>\n",
       "    <tr>\n",
       "      <th>2</th>\n",
       "      <td>__label__0 The recommended local restaurants were excellent.</td>\n",
       "      <td>0</td>\n",
       "    </tr>\n",
       "    <tr>\n",
       "      <th>3</th>\n",
       "      <td>__label__0 All in all this hotel should be classified three star</td>\n",
       "      <td>0</td>\n",
       "    </tr>\n",
       "    <tr>\n",
       "      <th>4</th>\n",
       "      <td>__label__0 Directly across the street from an informal bus terminus the hotel is also very convenient for the U-Bahn into town and some points in the East on foot, but quite a walk away from the heart of things.</td>\n",
       "      <td>0</td>\n",
       "    </tr>\n",
       "  </tbody>\n",
       "</table>\n",
       "</div>"
      ],
      "text/plain": [
       "                                                                                                                                                                                                                  text  \\\n",
       "0  __label__0 I was extremely disappointed with my stay at Seattle Sheraton.                                                                                                                                             \n",
       "1  __label__0 This hotel is on the other side of the Piazza from the bus stop ,caddy corner to the large statue at the archway of the Piazza,.                                                                           \n",
       "2  __label__0 The recommended local restaurants were excellent.                                                                                                                                                          \n",
       "3  __label__0 All in all this hotel should be classified three star                                                                                                                                                      \n",
       "4  __label__0 Directly across the street from an informal bus terminus the hotel is also very convenient for the U-Bahn into town and some points in the East on foot, but quite a walk away from the heart of things.   \n",
       "\n",
       "   class  \n",
       "0  0      \n",
       "1  0      \n",
       "2  0      \n",
       "3  0      \n",
       "4  0      "
      ]
     },
     "execution_count": 637,
     "metadata": {},
     "output_type": "execute_result"
    }
   ],
   "source": [
    "final_df = hotel.copy()\n",
    "final_df = final_df.append(elec,ignore_index = True)\n",
    "final_df = final_df.append(travel,ignore_index = True)\n",
    "final_df = final_df.append(suguservoice,ignore_index = True)\n",
    "final_df = final_df.append(sughash,ignore_index = True)\n",
    "final_df.head()"
   ]
  },
  {
   "cell_type": "code",
   "execution_count": 638,
   "metadata": {
    "collapsed": false
   },
   "outputs": [
    {
     "data": {
      "text/html": [
       "<div>\n",
       "<table border=\"1\" class=\"dataframe\">\n",
       "  <thead>\n",
       "    <tr style=\"text-align: right;\">\n",
       "      <th></th>\n",
       "      <th>text</th>\n",
       "      <th>class</th>\n",
       "    </tr>\n",
       "  </thead>\n",
       "  <tbody>\n",
       "    <tr>\n",
       "      <th>0</th>\n",
       "      <td>__label__1 Let me be able to see the reviews that are added or app crashes so that my attention towards them grows infinitely large.</td>\n",
       "      <td>1</td>\n",
       "    </tr>\n",
       "    <tr>\n",
       "      <th>1</th>\n",
       "      <td>__label__0 im taking mine back tomorrow morning , and getting a nice shiny new ipod instead .</td>\n",
       "      <td>0</td>\n",
       "    </tr>\n",
       "    <tr>\n",
       "      <th>2</th>\n",
       "      <td>__label__0 My room was spacious and the interior looked very new.</td>\n",
       "      <td>0</td>\n",
       "    </tr>\n",
       "    <tr>\n",
       "      <th>3</th>\n",
       "      <td>__label__1  you are real in life i admire the advice u gave delay</td>\n",
       "      <td>1</td>\n",
       "    </tr>\n",
       "    <tr>\n",
       "      <th>4</th>\n",
       "      <td>__label__0 i am absolutely in awe of this camera , canon put enormous quality into the g3 .</td>\n",
       "      <td>0</td>\n",
       "    </tr>\n",
       "  </tbody>\n",
       "</table>\n",
       "</div>"
      ],
      "text/plain": [
       "                                                                                                                                   text  \\\n",
       "0  __label__1 Let me be able to see the reviews that are added or app crashes so that my attention towards them grows infinitely large.   \n",
       "1  __label__0 im taking mine back tomorrow morning , and getting a nice shiny new ipod instead .                                          \n",
       "2  __label__0 My room was spacious and the interior looked very new.                                                                      \n",
       "3  __label__1  you are real in life i admire the advice u gave delay                                                                      \n",
       "4  __label__0 i am absolutely in awe of this camera , canon put enormous quality into the g3 .                                            \n",
       "\n",
       "   class  \n",
       "0  1      \n",
       "1  0      \n",
       "2  0      \n",
       "3  1      \n",
       "4  0      "
      ]
     },
     "execution_count": 638,
     "metadata": {},
     "output_type": "execute_result"
    }
   ],
   "source": [
    "final_df = final_df.sample(frac = 1).reset_index(drop=True)\n",
    "final_df.head()"
   ]
  },
  {
   "cell_type": "code",
   "execution_count": 639,
   "metadata": {
    "collapsed": false
   },
   "outputs": [
    {
     "data": {
      "text/plain": [
       "0    0.827949\n",
       "1    0.172051\n",
       "Name: class, dtype: float64"
      ]
     },
     "execution_count": 639,
     "metadata": {},
     "output_type": "execute_result"
    }
   ],
   "source": [
    "final_df['class'].value_counts(normalize = True)"
   ]
  },
  {
   "cell_type": "code",
   "execution_count": 640,
   "metadata": {
    "collapsed": false
   },
   "outputs": [
    {
     "name": "stdout",
     "output_type": "stream",
     "text": [
      "(26405, 2)\n"
     ]
    }
   ],
   "source": [
    "san = final_df['text'].copy()\n",
    "for i in range(len(san)):\n",
    "    san[i] = '__label__' + str(final_df['class'][i]) + ' ' + str(san[i])\n",
    "final_df['text'] = san\n",
    "\n",
    "final_df = final_df.sample(frac = 1).reset_index(drop = True)\n",
    "print final_df.shape"
   ]
  },
  {
   "cell_type": "code",
   "execution_count": 641,
   "metadata": {
    "collapsed": false
   },
   "outputs": [],
   "source": [
    "final_df_train = final_df[:-2600]\n",
    "final_df_test = final_df[-2600:]\n",
    "final_df_test = final_df_test.reset_index(drop = True)\n",
    "\n",
    "fw = open('final_df_train.txt','w')\n",
    "for i in range(len(final_df_train)):\n",
    "    fw.write(final_df_train['text'][i])\n",
    "    fw.write('\\n')\n",
    "fw.close()\n",
    "\n",
    "fw = open('final_df_test.txt','w')\n",
    "for i in range(len(final_df_test)):\n",
    "    fw.write(final_df_test['text'][i])\n",
    "    fw.write('\\n')\n",
    "fw.close()"
   ]
  },
  {
   "cell_type": "code",
   "execution_count": 642,
   "metadata": {
    "collapsed": false
   },
   "outputs": [],
   "source": [
    "final_df_clf = ft.supervised('final_df_train.txt','final_df')"
   ]
  },
  {
   "cell_type": "code",
   "execution_count": 643,
   "metadata": {
    "collapsed": true
   },
   "outputs": [],
   "source": [
    "final_df_test_texts = []\n",
    "for i in range(len(final_df_test)):\n",
    "    final_df_test_texts.append(final_df_test['text'][i][11:])\n",
    "\n",
    "pred = final_df_clf.predict(final_df_test_texts)\n",
    "final_df_test_pred = []\n",
    "for i in range(len(pred)):\n",
    "    final_df_test_pred.append(int(pred[i][0]))\n",
    "final_df_test_labels = list(final_df_test['class'])"
   ]
  },
  {
   "cell_type": "code",
   "execution_count": 644,
   "metadata": {
    "collapsed": false
   },
   "outputs": [
    {
     "name": "stdout",
     "output_type": "stream",
     "text": [
      "             precision    recall  f1-score   support\n",
      "\n",
      "    Not Sug       0.90      0.95      0.93      2141\n",
      "        Sug       0.71      0.51      0.59       459\n",
      "\n",
      "avg / total       0.87      0.88      0.87      2600\n",
      "\n"
     ]
    }
   ],
   "source": [
    "# precision recall and F1 score.\n",
    "from sklearn.metrics import classification_report\n",
    "print(classification_report(final_df_test_labels, final_df_test_pred, target_names=['Not Sug','Sug']))"
   ]
  },
  {
   "cell_type": "code",
   "execution_count": 645,
   "metadata": {
    "collapsed": false
   },
   "outputs": [
    {
     "name": "stdout",
     "output_type": "stream",
     "text": [
      "0.875384615385\n"
     ]
    }
   ],
   "source": [
    "from sklearn.metrics import accuracy_score\n",
    "print accuracy_score(final_df_test_labels,final_df_test_pred)"
   ]
  },
  {
   "cell_type": "code",
   "execution_count": null,
   "metadata": {
    "collapsed": true
   },
   "outputs": [],
   "source": []
  },
  {
   "cell_type": "code",
   "execution_count": null,
   "metadata": {
    "collapsed": true
   },
   "outputs": [],
   "source": []
  },
  {
   "cell_type": "markdown",
   "metadata": {},
   "source": [
    "## Finally Training on ALL available DATA, can be used on any newer data to predict"
   ]
  },
  {
   "cell_type": "code",
   "execution_count": 646,
   "metadata": {
    "collapsed": true
   },
   "outputs": [],
   "source": [
    "import fileinput\n",
    "filenames = ['data/hotel/hotel_test.txt','data/hotel/hotel_train.txt',\n",
    "             'data/elec/elec_test.txt','data/elec/elec_train.txt',\n",
    "             'data/travel/travel_test.txt','data/travel/travel_train.txt',\n",
    "             'data/sughash/sughash_test.txt','data/sughash/sughash_train.txt',\n",
    "             'data/suguservoice/suguservoice_test.txt','data/suguservoice/suguservoice_train.txt'\n",
    "            ]"
   ]
  },
  {
   "cell_type": "code",
   "execution_count": 647,
   "metadata": {
    "collapsed": true
   },
   "outputs": [],
   "source": [
    "with open('trainer.txt', 'w') as fout:\n",
    "    fin = fileinput.input(filenames)\n",
    "    for line in fin:\n",
    "        fout.write(line)\n",
    "    fin.close()"
   ]
  },
  {
   "cell_type": "code",
   "execution_count": 648,
   "metadata": {
    "collapsed": true
   },
   "outputs": [],
   "source": [
    "trainer_clf = ft.supervised('trainer.txt', 'trainer')"
   ]
  }
 ],
 "metadata": {
  "kernelspec": {
   "display_name": "Python 2",
   "language": "python",
   "name": "python2"
  },
  "language_info": {
   "codemirror_mode": {
    "name": "ipython",
    "version": 2
   },
   "file_extension": ".py",
   "mimetype": "text/x-python",
   "name": "python",
   "nbconvert_exporter": "python",
   "pygments_lexer": "ipython2",
   "version": "2.7.13"
  }
 },
 "nbformat": 4,
 "nbformat_minor": 2
}
